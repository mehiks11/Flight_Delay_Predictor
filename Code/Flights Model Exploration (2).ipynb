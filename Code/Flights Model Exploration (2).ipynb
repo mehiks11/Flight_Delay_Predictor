{
 "cells": [
  {
   "cell_type": "code",
   "execution_count": 51,
   "id": "ecological-breach",
   "metadata": {},
   "outputs": [],
   "source": [
    "# Importing all necessary libraries\n",
    "# munging imports\n",
    "import pandas as pd\n",
    "import numpy as np\n",
    "\n",
    "# visualization imports\n",
    "import matplotlib.pyplot as plt\n",
    "import seaborn as sns\n",
    "\n",
    "\n",
    "%matplotlib inline\n",
    "\n",
    "# modeling imports\n",
    "from sklearn.model_selection import train_test_split\n",
    "from sklearn.metrics import precision_score, recall_score, accuracy_score, roc_auc_score, precision_recall_curve,f1_score, fbeta_score\n",
    "from sklearn.metrics import confusion_matrix\n",
    "from sklearn.preprocessing import StandardScaler\n",
    "from sklearn.neighbors import KNeighborsClassifier\n",
    "from sklearn import metrics\n",
    "from sklearn.model_selection import cross_val_score"
   ]
  },
  {
   "cell_type": "markdown",
   "id": "fantastic-jenny",
   "metadata": {},
   "source": [
    "# Model Exploration"
   ]
  },
  {
   "cell_type": "markdown",
   "id": "fundamental-dimension",
   "metadata": {},
   "source": [
    "*In this notebook, I will use a smaller subset of the data to explore and compare the models where I need to dummify variables before choosing a final model and training on all the available data points.*"
   ]
  },
  {
   "cell_type": "markdown",
   "id": "destroyed-buffalo",
   "metadata": {},
   "source": [
    "Pull in a sample of the data."
   ]
  },
  {
   "cell_type": "code",
   "execution_count": 53,
   "id": "acceptable-colorado",
   "metadata": {},
   "outputs": [],
   "source": [
    "#pull in a 10,000 datapoint sample from our dataframe, with unecessary columns dropped.\n",
    "sample_df=pd.read_csv('/Users/mehikapatel/Flights_Project/Data/FinalFlightsData.csv').drop(columns=['Unnamed: 0',\n",
    "                                                                                                    'DEP_TIME',\n",
    "                                                                                                    'DEP_DELAY',\n",
    "                                                                                                    'ARR_DELAY',\n",
    "                                                                                                    'CANCELLED',\n",
    "                                                                                                    'DATE',\n",
    "                                                                                                    'FLIGHT_NUM',\n",
    "                                                                                                    'origin_lat',\n",
    "                                                                                                    'origin_lon',\n",
    "                                                                                                    'dest_lat',\n",
    "                                                                                                    'dest_lon',\n",
    "                                                                                                    'CRS_DEP_TIME',\n",
    "                                                                                                    'CRS_ARR_TIME',\n",
    "                                                                                                   'municipality1',\n",
    "                                                                                                   'municipality2']).sample(n=40000,\n",
    "                                                                                                                        random_state=6)"
   ]
  },
  {
   "cell_type": "markdown",
   "id": "twenty-compact",
   "metadata": {},
   "source": [
    "Dummify all features to make them viable for model creation."
   ]
  },
  {
   "cell_type": "code",
   "execution_count": 54,
   "id": "passing-armor",
   "metadata": {},
   "outputs": [],
   "source": [
    "#Airline\n",
    "sample_df = sample_df.join(pd.get_dummies(sample_df['AIRLINE'],drop_first=True))\n",
    "\n",
    "#drop original\n",
    "sample_df.drop('AIRLINE',axis=1,inplace=True)"
   ]
  },
  {
   "cell_type": "code",
   "execution_count": 55,
   "id": "classified-radiation",
   "metadata": {},
   "outputs": [],
   "source": [
    "#Origin\n",
    "sample_df = sample_df.join(pd.get_dummies(sample_df['ORIGIN'],drop_first=True))\n",
    "\n",
    "#drop original\n",
    "sample_df.drop('ORIGIN',axis=1,inplace=True)"
   ]
  },
  {
   "cell_type": "markdown",
   "id": "separated-oakland",
   "metadata": {},
   "source": [
    "Because we have matching values in the origin and dest columns and have already made dummy variables for all our origin airports, we must change those in the destination column slightly to be able to make dummy variables pertaining to the destination. So, we coerce the destination column by adding \"2\" to each data point before making dummies to indicate destination airport code."
   ]
  },
  {
   "cell_type": "code",
   "execution_count": 56,
   "id": "fitted-permission",
   "metadata": {},
   "outputs": [],
   "source": [
    "sample_df['DEST'] = sample_df['DEST'].astype(str) + '2'"
   ]
  },
  {
   "cell_type": "code",
   "execution_count": 57,
   "id": "suitable-portuguese",
   "metadata": {},
   "outputs": [],
   "source": [
    "#Dest\n",
    "sample_df = sample_df.join(pd.get_dummies(sample_df['DEST'],drop_first=True))\n",
    "\n",
    "#drop original\n",
    "sample_df.drop('DEST',axis=1,inplace=True)"
   ]
  },
  {
   "cell_type": "code",
   "execution_count": 58,
   "id": "southeast-foster",
   "metadata": {},
   "outputs": [],
   "source": [
    "#Month\n",
    "    #two features cos and sin:\n",
    "sample_df['sin_month']=np.sin(2*np.pi*sample_df.MONTH/12)\n",
    "sample_df['cos_month']=np.cos(2*np.pi*sample_df.MONTH/12)\n",
    "\n",
    "#drop original\n",
    "sample_df.drop('MONTH',axis=1,inplace=True)"
   ]
  },
  {
   "cell_type": "code",
   "execution_count": 59,
   "id": "trained-tanzania",
   "metadata": {},
   "outputs": [],
   "source": [
    "#Day of Week\n",
    "    #two features cos and sin:\n",
    "sample_df['sin_DOW']=np.sin(2*np.pi*sample_df.DAYOFWEEK/7)\n",
    "sample_df['cos_DOW']=np.cos(2*np.pi*sample_df.DAYOFWEEK/7)\n",
    "\n",
    "#drop original\n",
    "sample_df.drop('DAYOFWEEK',axis=1,inplace=True)"
   ]
  },
  {
   "cell_type": "code",
   "execution_count": 60,
   "id": "stainless-knitting",
   "metadata": {},
   "outputs": [],
   "source": [
    "#origin Type\n",
    "sample_df = sample_df.join(pd.get_dummies(sample_df['origin_type'],drop_first=True))\n",
    "\n",
    "#drop original\n",
    "sample_df.drop('origin_type',axis=1,inplace=True)"
   ]
  },
  {
   "cell_type": "markdown",
   "id": "floppy-traveler",
   "metadata": {},
   "source": [
    "Similar to above with our airport codes, we have to slightly change the destination type by adding \"2\" ."
   ]
  },
  {
   "cell_type": "code",
   "execution_count": 61,
   "id": "civic-friendly",
   "metadata": {},
   "outputs": [],
   "source": [
    "sample_df['dest_type'] = sample_df['dest_type'].astype(str) + '2'"
   ]
  },
  {
   "cell_type": "code",
   "execution_count": 62,
   "id": "express-harbor",
   "metadata": {},
   "outputs": [],
   "source": [
    "# dest type\n",
    "sample_df = sample_df.join(pd.get_dummies(sample_df['dest_type'],drop_first=True))\n",
    "\n",
    "#drop original\n",
    "sample_df.drop('dest_type',axis=1,inplace=True)"
   ]
  },
  {
   "cell_type": "code",
   "execution_count": 63,
   "id": "individual-mention",
   "metadata": {},
   "outputs": [],
   "source": [
    "#Dep hour\n",
    "sample_df['sin_DEP_HOUR']=np.sin(2*np.pi*sample_df.DEP_HOUR/24)\n",
    "sample_df['cos_DEP_HOUR']=np.cos(2*np.pi*sample_df.DEP_HOUR/24)\n",
    "\n",
    "#drop original\n",
    "sample_df.drop('DEP_HOUR',axis=1,inplace=True)"
   ]
  },
  {
   "cell_type": "code",
   "execution_count": 64,
   "id": "toxic-premiere",
   "metadata": {},
   "outputs": [],
   "source": [
    "# Arr hour\n",
    "sample_df['sin_ARR_HOUR']=np.sin(2*np.pi*sample_df.ARR_HOUR/24)\n",
    "sample_df['cos_ARR_HOUR']=np.cos(2*np.pi*sample_df.ARR_HOUR/24)\n",
    "\n",
    "#drop original\n",
    "sample_df.drop('ARR_HOUR',axis=1,inplace=True)"
   ]
  },
  {
   "cell_type": "code",
   "execution_count": 65,
   "id": "marked-persian",
   "metadata": {},
   "outputs": [],
   "source": [
    "# origin weather\n",
    "sample_df = sample_df.join(pd.get_dummies(sample_df['origin_weather'],drop_first=True))\n",
    "\n",
    "#drop original\n",
    "sample_df.drop('origin_weather',axis=1,inplace=True)"
   ]
  },
  {
   "cell_type": "markdown",
   "id": "sacred-summit",
   "metadata": {},
   "source": [
    "Again, we will do the same for destination weather."
   ]
  },
  {
   "cell_type": "code",
   "execution_count": 68,
   "id": "advance-wyoming",
   "metadata": {},
   "outputs": [],
   "source": [
    "sample_df['dest_weather'] = sample_df['dest_weather'].astype(str) + '2'"
   ]
  },
  {
   "cell_type": "code",
   "execution_count": 69,
   "id": "crazy-ceremony",
   "metadata": {},
   "outputs": [],
   "source": [
    "# dest weather\n",
    "sample_df = sample_df.join(pd.get_dummies(sample_df['dest_weather'],drop_first=True))\n",
    "\n",
    "#drop original\n",
    "sample_df.drop('dest_weather',axis=1,inplace=True)"
   ]
  },
  {
   "cell_type": "markdown",
   "id": "sophisticated-confirmation",
   "metadata": {},
   "source": [
    "We will be converting the weather severity columns into ordinal data.\n",
    "\n",
    "Specifically, there are 6 values:\n",
    "1. Light\n",
    "2. Moderate\n",
    "3. Severe\n",
    "4. UNK (unknown)\n",
    "5. Heavy\n",
    "6. Other\n",
    "\n",
    "For the light,moderate, heavy, and severe, we will make light = 1, moderate = 2, heavy = 3, severe =4. \n",
    "The other categories will be removed from the dataset since we do not definetively know, and this could skew our results. "
   ]
  },
  {
   "cell_type": "code",
   "execution_count": 70,
   "id": "civilian-consumer",
   "metadata": {},
   "outputs": [],
   "source": [
    "#Drop unknown and others fully from dataset considering they have weather data but no severity level.\n",
    "sample_df = sample_df[sample_df.origin_severity != 'UNK']\n",
    "sample_df = sample_df[sample_df.origin_severity != 'Other']"
   ]
  },
  {
   "cell_type": "code",
   "execution_count": 71,
   "id": "experimental-haven",
   "metadata": {},
   "outputs": [],
   "source": [
    "# origin severity\n",
    "\n",
    "# lambda x: x*10 if x<2 else (x**2 if x<4 else x+10)\n",
    "\n",
    "sample_df['origin_sev'] =sample_df['origin_severity'].apply(lambda x: 1 if x == \"Light\" else(2 if x == \"Moderate\" else(3 if x == \"Heavy\" else (4 if x== \"Severe\" else 0 ))))\n",
    "sample_df.drop(columns=['origin_severity'],inplace=True)\n"
   ]
  },
  {
   "cell_type": "code",
   "execution_count": 72,
   "id": "architectural-neighborhood",
   "metadata": {},
   "outputs": [],
   "source": [
    "# dest severity\n",
    "sample_df['dest_sev'] =sample_df['dest_severity'].apply(lambda x: 1 if x == \"Light\" else(2 if x == \"Moderate\" else(3 if x == \"Heavy\" else (4 if x== \"Severe\" else 0 ))))\n",
    "\n",
    "#drop original columns for origin and dest severity\n",
    "sample_df.drop(columns=['dest_severity'],inplace=True)"
   ]
  },
  {
   "cell_type": "markdown",
   "id": "aging-things",
   "metadata": {},
   "source": [
    "## Metric Decision: F1\n",
    "\n",
    "The metric that will be used to compare models will be the balanced F1 metric to find an optimal balance between precision and recall. We imagine it is equally harmful/beneficial to increase our recall rate as it is to increase our precision rate when classifiying a future flight as \"delayed\" or not. "
   ]
  },
  {
   "cell_type": "markdown",
   "id": "promising-georgia",
   "metadata": {},
   "source": [
    "## Dealing with Class Imbalance:"
   ]
  },
  {
   "cell_type": "code",
   "execution_count": 73,
   "id": "typical-stevens",
   "metadata": {
    "scrolled": true
   },
   "outputs": [
    {
     "data": {
      "text/plain": [
       "False    32494\n",
       "True      6943\n",
       "Name: target, dtype: int64"
      ]
     },
     "execution_count": 73,
     "metadata": {},
     "output_type": "execute_result"
    }
   ],
   "source": [
    "sample_df.target.value_counts()"
   ]
  },
  {
   "cell_type": "code",
   "execution_count": 74,
   "id": "empty-victorian",
   "metadata": {
    "scrolled": true
   },
   "outputs": [
    {
     "name": "stdout",
     "output_type": "stream",
     "text": [
      "The percentage of NOT Delayed is 83%\n",
      "The percentage of Delayed is 17%\n"
     ]
    }
   ],
   "source": [
    "Fal = 8148\n",
    "Tru = 1715\n",
    "Tot = Fal + Tru\n",
    "\n",
    "print(f'The percentage of NOT Delayed is {round((Fal/Tot)*100)}%')\n",
    "print(f'The percentage of Delayed is {round((Tru/Tot)*100)}%')"
   ]
  },
  {
   "cell_type": "markdown",
   "id": "honey-bottom",
   "metadata": {},
   "source": [
    "Because our target classes are strongly imbalanced (83% vs 17%), we will use class_weights when modeling to make sure our models catch our smaller class."
   ]
  },
  {
   "cell_type": "markdown",
   "id": "duplicate-venezuela",
   "metadata": {},
   "source": [
    "## Data Split"
   ]
  },
  {
   "cell_type": "code",
   "execution_count": 220,
   "id": "naval-ladder",
   "metadata": {},
   "outputs": [],
   "source": [
    "#split training and test sets:\n",
    "X = sample_df.drop(columns=['target'])\n",
    "y = sample_df.target\n",
    "\n",
    "#split into train and test\n",
    "X_train, X_test, y_train, y_test = train_test_split(X, y, test_size=0.3, random_state=42,stratify=y)"
   ]
  },
  {
   "cell_type": "markdown",
   "id": "valued-wagner",
   "metadata": {},
   "source": [
    "## Create our first Tree models with the sample data with all the features dummified."
   ]
  },
  {
   "cell_type": "markdown",
   "id": "nutritional-company",
   "metadata": {},
   "source": [
    "Create RF Models."
   ]
  },
  {
   "cell_type": "code",
   "execution_count": 76,
   "id": "constitutional-notion",
   "metadata": {},
   "outputs": [],
   "source": [
    "from sklearn.ensemble import RandomForestClassifier"
   ]
  },
  {
   "cell_type": "code",
   "execution_count": 208,
   "id": "advisory-carter",
   "metadata": {},
   "outputs": [
    {
     "data": {
      "text/plain": [
       "RandomForestClassifier(class_weight={0: 1, 1: 5.2}, n_estimators=11)"
      ]
     },
     "execution_count": 208,
     "metadata": {},
     "output_type": "execute_result"
    }
   ],
   "source": [
    "rf_model = RandomForestClassifier(class_weight={0:1,1:5.2},n_estimators=11)\n",
    "rf_model.fit(X_train,y_train)"
   ]
  },
  {
   "cell_type": "code",
   "execution_count": 209,
   "id": "worthy-prompt",
   "metadata": {},
   "outputs": [],
   "source": [
    "y_pred = rf_model.predict(X_test)"
   ]
  },
  {
   "cell_type": "code",
   "execution_count": 210,
   "id": "suburban-affair",
   "metadata": {},
   "outputs": [
    {
     "name": "stdout",
     "output_type": "stream",
     "text": [
      "Accuracy Score: 0.8133029073698445\n",
      "Precision Score: 0.325\n",
      "Recall Score: 0.05616898703792607\n",
      "F1 Score: 0.09578387228817029\n"
     ]
    }
   ],
   "source": [
    "#1:5.2 weights \n",
    "# 11 estimators\n",
    "print(f'Accuracy Score: {metrics.accuracy_score(y_test, y_pred)}')\n",
    "print(f'Precision Score: {metrics.precision_score(y_test, y_pred)}')\n",
    "print(f'Recall Score: {metrics.recall_score(y_test, y_pred)}')\n",
    "print(f'F1 Score: {metrics.f1_score(y_test, y_pred)}')"
   ]
  },
  {
   "cell_type": "code",
   "execution_count": 187,
   "id": "recreational-sperm",
   "metadata": {},
   "outputs": [
    {
     "name": "stdout",
     "output_type": "stream",
     "text": [
      "Accuracy Score: 0.8133874239350912\n",
      "Precision Score: 0.32492997198879553\n",
      "Recall Score: 0.0556889102256361\n",
      "F1 Score: 0.09508196721311475\n"
     ]
    }
   ],
   "source": [
    "#1:5.2 weights \n",
    "# 11 estimators\n",
    "print(f'Accuracy Score: {metrics.accuracy_score(y_test, y_pred)}')\n",
    "print(f'Precision Score: {metrics.precision_score(y_test, y_pred)}')\n",
    "print(f'Recall Score: {metrics.recall_score(y_test, y_pred)}')\n",
    "print(f'F1 Score: {metrics.f1_score(y_test, y_pred)}')"
   ]
  },
  {
   "cell_type": "code",
   "execution_count": 149,
   "id": "located-premises",
   "metadata": {},
   "outputs": [
    {
     "name": "stdout",
     "output_type": "stream",
     "text": [
      "Accuracy Score: 0.8134719405003381\n",
      "Precision Score: 0.3037974683544304\n",
      "Recall Score: 0.046087373979836775\n",
      "F1 Score: 0.08003334722801167\n"
     ]
    }
   ],
   "source": [
    "#1:5 weights \n",
    "# 11 estimators\n",
    "print(f'Accuracy Score: {metrics.accuracy_score(y_test, y_pred)}')\n",
    "print(f'Precision Score: {metrics.precision_score(y_test, y_pred)}')\n",
    "print(f'Recall Score: {metrics.recall_score(y_test, y_pred)}')\n",
    "print(f'F1 Score: {metrics.f1_score(y_test, y_pred)}')"
   ]
  },
  {
   "cell_type": "code",
   "execution_count": 139,
   "id": "mathematical-enough",
   "metadata": {},
   "outputs": [
    {
     "name": "stdout",
     "output_type": "stream",
     "text": [
      "Accuracy Score: 0.8176132521974308\n",
      "Precision Score: 0.33624454148471616\n",
      "Recall Score: 0.03696591454632741\n",
      "F1 Score: 0.06660899653979238\n"
     ]
    }
   ],
   "source": [
    "#1:5 weights \n",
    "# 15 estimators\n",
    "print(f'Accuracy Score: {metrics.accuracy_score(y_test, y_pred)}')\n",
    "print(f'Precision Score: {metrics.precision_score(y_test, y_pred)}')\n",
    "print(f'Recall Score: {metrics.recall_score(y_test, y_pred)}')\n",
    "print(f'F1 Score: {metrics.f1_score(y_test, y_pred)}')"
   ]
  },
  {
   "cell_type": "code",
   "execution_count": 136,
   "id": "signed-attribute",
   "metadata": {},
   "outputs": [
    {
     "name": "stdout",
     "output_type": "stream",
     "text": [
      "Accuracy Score: 0.8201487491548344\n",
      "Precision Score: 0.3404255319148936\n",
      "Recall Score: 0.023043686989918388\n",
      "F1 Score: 0.04316546762589928\n"
     ]
    }
   ],
   "source": [
    "#1:5 weights \n",
    "# 20 estimators\n",
    "print(f'Accuracy Score: {metrics.accuracy_score(y_test, y_pred)}')\n",
    "print(f'Precision Score: {metrics.precision_score(y_test, y_pred)}')\n",
    "print(f'Recall Score: {metrics.recall_score(y_test, y_pred)}')\n",
    "print(f'F1 Score: {metrics.f1_score(y_test, y_pred)}')"
   ]
  },
  {
   "cell_type": "code",
   "execution_count": 121,
   "id": "thick-sphere",
   "metadata": {},
   "outputs": [
    {
     "name": "stdout",
     "output_type": "stream",
     "text": [
      "Accuracy Score: 0.8223461798512508\n",
      "Precision Score: 0.38271604938271603\n",
      "Recall Score: 0.014882381180988958\n",
      "F1 Score: 0.028650646950092423\n"
     ]
    }
   ],
   "source": [
    "#1:5 weights \n",
    "# 75 estimators\n",
    "print(f'Accuracy Score: {metrics.accuracy_score(y_test, y_pred)}')\n",
    "print(f'Precision Score: {metrics.precision_score(y_test, y_pred)}')\n",
    "print(f'Recall Score: {metrics.recall_score(y_test, y_pred)}')\n",
    "print(f'F1 Score: {metrics.f1_score(y_test, y_pred)}')"
   ]
  },
  {
   "cell_type": "code",
   "execution_count": 127,
   "id": "bottom-rachel",
   "metadata": {},
   "outputs": [
    {
     "name": "stdout",
     "output_type": "stream",
     "text": [
      "Accuracy Score: 0.8223461798512508\n",
      "Precision Score: 0.3855421686746988\n",
      "Recall Score: 0.015362457993278924\n",
      "F1 Score: 0.029547553093259463\n"
     ]
    }
   ],
   "source": [
    "#1:5 weights \n",
    "# 50 estimators\n",
    "print(f'Accuracy Score: {metrics.accuracy_score(y_test, y_pred)}')\n",
    "print(f'Precision Score: {metrics.precision_score(y_test, y_pred)}')\n",
    "print(f'Recall Score: {metrics.recall_score(y_test, y_pred)}')\n",
    "print(f'F1 Score: {metrics.f1_score(y_test, y_pred)}')"
   ]
  },
  {
   "cell_type": "code",
   "execution_count": 130,
   "id": "ordered-wrapping",
   "metadata": {},
   "outputs": [
    {
     "name": "stdout",
     "output_type": "stream",
     "text": [
      "Accuracy Score: 0.8199797160243407\n",
      "Precision Score: 0.2920353982300885\n",
      "Recall Score: 0.01584253480556889\n",
      "F1 Score: 0.030054644808743168\n"
     ]
    }
   ],
   "source": [
    "#1:5 weights \n",
    "# 30 estimators\n",
    "print(f'Accuracy Score: {metrics.accuracy_score(y_test, y_pred)}')\n",
    "print(f'Precision Score: {metrics.precision_score(y_test, y_pred)}')\n",
    "print(f'Recall Score: {metrics.recall_score(y_test, y_pred)}')\n",
    "print(f'F1 Score: {metrics.f1_score(y_test, y_pred)}')"
   ]
  },
  {
   "cell_type": "code",
   "execution_count": 79,
   "id": "olive-japan",
   "metadata": {
    "scrolled": true
   },
   "outputs": [
    {
     "name": "stdout",
     "output_type": "stream",
     "text": [
      "Accuracy Score: 0.8225997295469912\n",
      "Precision Score: 0.3888888888888889\n",
      "Recall Score: 0.01344215074411906\n",
      "F1 Score: 0.025986078886310902\n"
     ]
    }
   ],
   "source": [
    "# 500 estimators\n",
    "print(f'Accuracy Score: {metrics.accuracy_score(y_test, y_pred)}')\n",
    "print(f'Precision Score: {metrics.precision_score(y_test, y_pred)}')\n",
    "print(f'Recall Score: {metrics.recall_score(y_test, y_pred)}')\n",
    "print(f'F1 Score: {metrics.f1_score(y_test, y_pred)}')"
   ]
  },
  {
   "cell_type": "code",
   "execution_count": 82,
   "id": "exposed-administrator",
   "metadata": {
    "scrolled": true
   },
   "outputs": [
    {
     "name": "stdout",
     "output_type": "stream",
     "text": [
      "Accuracy Score: 0.8217545638945233\n",
      "Precision Score: 0.30303030303030304\n",
      "Recall Score: 0.009601536245799328\n",
      "F1 Score: 0.018613308515588643\n"
     ]
    }
   ],
   "source": [
    "#200 estimators\n",
    "print(f'Accuracy Score: {metrics.accuracy_score(y_test, y_pred)}')\n",
    "print(f'Precision Score: {metrics.precision_score(y_test, y_pred)}')\n",
    "print(f'Recall Score: {metrics.recall_score(y_test, y_pred)}')\n",
    "print(f'F1 Score: {metrics.f1_score(y_test, y_pred)}')"
   ]
  },
  {
   "cell_type": "code",
   "execution_count": 85,
   "id": "pressed-valuation",
   "metadata": {},
   "outputs": [
    {
     "name": "stdout",
     "output_type": "stream",
     "text": [
      "Accuracy Score: 0.8225997295469912\n",
      "Precision Score: 0.36666666666666664\n",
      "Recall Score: 0.01056168987037926\n",
      "F1 Score: 0.02053196453569762\n"
     ]
    }
   ],
   "source": [
    "#1000 estimators\n",
    "print(f'Accuracy Score: {metrics.accuracy_score(y_test, y_pred)}')\n",
    "print(f'Precision Score: {metrics.precision_score(y_test, y_pred)}')\n",
    "print(f'Recall Score: {metrics.recall_score(y_test, y_pred)}')\n",
    "print(f'F1 Score: {metrics.f1_score(y_test, y_pred)}')"
   ]
  },
  {
   "cell_type": "code",
   "execution_count": 109,
   "id": "acute-brighton",
   "metadata": {},
   "outputs": [
    {
     "name": "stdout",
     "output_type": "stream",
     "text": [
      "Accuracy Score: 0.8225997295469912\n",
      "Precision Score: 0.3709677419354839\n",
      "Recall Score: 0.011041766682669226\n",
      "F1 Score: 0.021445221445221443\n"
     ]
    }
   ],
   "source": [
    "#500 with weights\n",
    "print(f'Accuracy Score: {metrics.accuracy_score(y_test, y_pred)}')\n",
    "print(f'Precision Score: {metrics.precision_score(y_test, y_pred)}')\n",
    "print(f'Recall Score: {metrics.recall_score(y_test, y_pred)}')\n",
    "print(f'F1 Score: {metrics.f1_score(y_test, y_pred)}')"
   ]
  },
  {
   "cell_type": "code",
   "execution_count": 90,
   "id": "sublime-effectiveness",
   "metadata": {},
   "outputs": [
    {
     "name": "stdout",
     "output_type": "stream",
     "text": [
      "Accuracy Score: 0.8225997295469912\n",
      "Precision Score: 0.3709677419354839\n",
      "Recall Score: 0.011041766682669226\n",
      "F1 Score: 0.021445221445221443\n"
     ]
    }
   ],
   "source": [
    "#600 estimators\n",
    "print(f'Accuracy Score: {metrics.accuracy_score(y_test, y_pred)}')\n",
    "print(f'Precision Score: {metrics.precision_score(y_test, y_pred)}')\n",
    "print(f'Recall Score: {metrics.recall_score(y_test, y_pred)}')\n",
    "print(f'F1 Score: {metrics.f1_score(y_test, y_pred)}')"
   ]
  },
  {
   "cell_type": "code",
   "execution_count": 93,
   "id": "charitable-decimal",
   "metadata": {},
   "outputs": [
    {
     "name": "stdout",
     "output_type": "stream",
     "text": [
      "Accuracy Score: 0.8218390804597702\n",
      "Precision Score: 0.323943661971831\n",
      "Recall Score: 0.011041766682669226\n",
      "F1 Score: 0.021355617455896005\n"
     ]
    }
   ],
   "source": [
    "#100 estimators:\n",
    "print(f'Accuracy Score: {metrics.accuracy_score(y_test, y_pred)}')\n",
    "print(f'Precision Score: {metrics.precision_score(y_test, y_pred)}')\n",
    "print(f'Recall Score: {metrics.recall_score(y_test, y_pred)}')\n",
    "print(f'F1 Score: {metrics.f1_score(y_test, y_pred)}')"
   ]
  },
  {
   "cell_type": "code",
   "execution_count": 103,
   "id": "automatic-regard",
   "metadata": {},
   "outputs": [
    {
     "name": "stdout",
     "output_type": "stream",
     "text": [
      "Accuracy Score: 0.8220081135902637\n",
      "Precision Score: 0.35064935064935066\n",
      "Recall Score: 0.012962073931829092\n",
      "F1 Score: 0.025\n"
     ]
    }
   ],
   "source": [
    "#450 estimators\n",
    "print(f'Accuracy Score: {metrics.accuracy_score(y_test, y_pred)}')\n",
    "print(f'Precision Score: {metrics.precision_score(y_test, y_pred)}')\n",
    "print(f'Recall Score: {metrics.recall_score(y_test, y_pred)}')\n",
    "print(f'F1 Score: {metrics.f1_score(y_test, y_pred)}')"
   ]
  },
  {
   "cell_type": "code",
   "execution_count": 112,
   "id": "generic-server",
   "metadata": {},
   "outputs": [
    {
     "name": "stdout",
     "output_type": "stream",
     "text": [
      "Accuracy Score: 0.8230223123732252\n",
      "Precision Score: 0.4225352112676056\n",
      "Recall Score: 0.014402304368698993\n",
      "F1 Score: 0.02785515320334262\n"
     ]
    }
   ],
   "source": [
    "#100 estimators with weight\n",
    "print(f'Accuracy Score: {metrics.accuracy_score(y_test, y_pred)}')\n",
    "print(f'Precision Score: {metrics.precision_score(y_test, y_pred)}')\n",
    "print(f'Recall Score: {metrics.recall_score(y_test, y_pred)}')\n",
    "print(f'F1 Score: {metrics.f1_score(y_test, y_pred)}')"
   ]
  },
  {
   "cell_type": "code",
   "execution_count": 115,
   "id": "military-fraction",
   "metadata": {
    "scrolled": true
   },
   "outputs": [
    {
     "name": "stdout",
     "output_type": "stream",
     "text": [
      "Accuracy Score: 0.8216700473292765\n",
      "Precision Score: 0.34831460674157305\n",
      "Recall Score: 0.014882381180988958\n",
      "F1 Score: 0.0285451197053407\n"
     ]
    }
   ],
   "source": [
    "#50 estimators with weight\n",
    "print(f'Accuracy Score: {metrics.accuracy_score(y_test, y_pred)}')\n",
    "print(f'Precision Score: {metrics.precision_score(y_test, y_pred)}')\n",
    "print(f'Recall Score: {metrics.recall_score(y_test, y_pred)}')\n",
    "print(f'F1 Score: {metrics.f1_score(y_test, y_pred)}')"
   ]
  },
  {
   "cell_type": "code",
   "execution_count": 118,
   "id": "sorted-branch",
   "metadata": {},
   "outputs": [
    {
     "name": "stdout",
     "output_type": "stream",
     "text": [
      "Accuracy Score: 0.8225152129817445\n",
      "Precision Score: 0.38666666666666666\n",
      "Recall Score: 0.013922227556409025\n",
      "F1 Score: 0.026876737720111215\n"
     ]
    }
   ],
   "source": [
    "#75 estimators with weight\n",
    "print(f'Accuracy Score: {metrics.accuracy_score(y_test, y_pred)}')\n",
    "print(f'Precision Score: {metrics.precision_score(y_test, y_pred)}')\n",
    "print(f'Recall Score: {metrics.recall_score(y_test, y_pred)}')\n",
    "print(f'F1 Score: {metrics.f1_score(y_test, y_pred)}')"
   ]
  },
  {
   "cell_type": "markdown",
   "id": "blind-timber",
   "metadata": {},
   "source": [
    "## XG BOOST"
   ]
  },
  {
   "cell_type": "code",
   "execution_count": 215,
   "id": "painted-entertainment",
   "metadata": {},
   "outputs": [],
   "source": [
    "import xgboost as xgb"
   ]
  },
  {
   "cell_type": "code",
   "execution_count": 221,
   "id": "quantitative-scanning",
   "metadata": {},
   "outputs": [],
   "source": [
    "from sklearn.model_selection import train_test_split\n",
    "from sklearn.ensemble import RandomForestRegressor\n",
    "from sklearn.linear_model import LinearRegression\n",
    "\n",
    "\n",
    "#Split data into 3: 60% train, 20% validation, 20% test\n",
    "X_train, X_test, y_train, y_test = train_test_split(X, y, test_size=0.2, random_state=2018)\n",
    "X_train, X_val, y_train, y_val = train_test_split(X_train, y_train, test_size=0.25, random_state=2019)\n",
    "\n",
    "#Evaluate models with Root Mean Squared Error\n",
    "def rmse(actuals, preds):\n",
    "    return np.sqrt(((actuals - preds) ** 2).mean())"
   ]
  },
  {
   "cell_type": "code",
   "execution_count": 222,
   "id": "veterinary-hierarchy",
   "metadata": {},
   "outputs": [
    {
     "name": "stdout",
     "output_type": "stream",
     "text": [
      "[0]\tvalidation_0-rmse:0.47934\tvalidation_1-rmse:0.47883\n",
      "[1]\tvalidation_0-rmse:0.46196\tvalidation_1-rmse:0.46097\n",
      "[2]\tvalidation_0-rmse:0.44730\tvalidation_1-rmse:0.44583\n",
      "[3]\tvalidation_0-rmse:0.43505\tvalidation_1-rmse:0.43305\n",
      "[4]\tvalidation_0-rmse:0.42484\tvalidation_1-rmse:0.42240\n",
      "[5]\tvalidation_0-rmse:0.41638\tvalidation_1-rmse:0.41346\n",
      "[6]\tvalidation_0-rmse:0.40932\tvalidation_1-rmse:0.40603\n",
      "[7]\tvalidation_0-rmse:0.40348\tvalidation_1-rmse:0.39989\n",
      "[8]\tvalidation_0-rmse:0.39868\tvalidation_1-rmse:0.39480\n",
      "[9]\tvalidation_0-rmse:0.39468\tvalidation_1-rmse:0.39045\n",
      "[10]\tvalidation_0-rmse:0.39138\tvalidation_1-rmse:0.38688\n",
      "[11]\tvalidation_0-rmse:0.38867\tvalidation_1-rmse:0.38399\n",
      "[12]\tvalidation_0-rmse:0.38643\tvalidation_1-rmse:0.38156\n",
      "[13]\tvalidation_0-rmse:0.38457\tvalidation_1-rmse:0.37957\n",
      "[14]\tvalidation_0-rmse:0.38302\tvalidation_1-rmse:0.37789\n",
      "[15]\tvalidation_0-rmse:0.38173\tvalidation_1-rmse:0.37647\n",
      "[16]\tvalidation_0-rmse:0.38067\tvalidation_1-rmse:0.37534\n",
      "[17]\tvalidation_0-rmse:0.37980\tvalidation_1-rmse:0.37441\n",
      "[18]\tvalidation_0-rmse:0.37906\tvalidation_1-rmse:0.37362\n",
      "[19]\tvalidation_0-rmse:0.37842\tvalidation_1-rmse:0.37293\n",
      "[20]\tvalidation_0-rmse:0.37786\tvalidation_1-rmse:0.37232\n",
      "[21]\tvalidation_0-rmse:0.37740\tvalidation_1-rmse:0.37184\n",
      "[22]\tvalidation_0-rmse:0.37700\tvalidation_1-rmse:0.37137\n",
      "[23]\tvalidation_0-rmse:0.37665\tvalidation_1-rmse:0.37101\n",
      "[24]\tvalidation_0-rmse:0.37634\tvalidation_1-rmse:0.37067\n",
      "[25]\tvalidation_0-rmse:0.37609\tvalidation_1-rmse:0.37045\n",
      "[26]\tvalidation_0-rmse:0.37584\tvalidation_1-rmse:0.37018\n",
      "[27]\tvalidation_0-rmse:0.37562\tvalidation_1-rmse:0.36999\n",
      "[28]\tvalidation_0-rmse:0.37539\tvalidation_1-rmse:0.36977\n",
      "[29]\tvalidation_0-rmse:0.37525\tvalidation_1-rmse:0.36964\n",
      "[30]\tvalidation_0-rmse:0.37507\tvalidation_1-rmse:0.36948\n",
      "[31]\tvalidation_0-rmse:0.37490\tvalidation_1-rmse:0.36933\n",
      "[32]\tvalidation_0-rmse:0.37478\tvalidation_1-rmse:0.36922\n",
      "[33]\tvalidation_0-rmse:0.37462\tvalidation_1-rmse:0.36912\n",
      "[34]\tvalidation_0-rmse:0.37448\tvalidation_1-rmse:0.36903\n",
      "[35]\tvalidation_0-rmse:0.37436\tvalidation_1-rmse:0.36895\n",
      "[36]\tvalidation_0-rmse:0.37426\tvalidation_1-rmse:0.36889\n",
      "[37]\tvalidation_0-rmse:0.37415\tvalidation_1-rmse:0.36883\n",
      "[38]\tvalidation_0-rmse:0.37405\tvalidation_1-rmse:0.36880\n",
      "[39]\tvalidation_0-rmse:0.37393\tvalidation_1-rmse:0.36876\n",
      "[40]\tvalidation_0-rmse:0.37384\tvalidation_1-rmse:0.36870\n",
      "[41]\tvalidation_0-rmse:0.37378\tvalidation_1-rmse:0.36869\n",
      "[42]\tvalidation_0-rmse:0.37367\tvalidation_1-rmse:0.36865\n",
      "[43]\tvalidation_0-rmse:0.37358\tvalidation_1-rmse:0.36864\n",
      "[44]\tvalidation_0-rmse:0.37347\tvalidation_1-rmse:0.36853\n",
      "[45]\tvalidation_0-rmse:0.37336\tvalidation_1-rmse:0.36850\n",
      "[46]\tvalidation_0-rmse:0.37325\tvalidation_1-rmse:0.36849\n",
      "[47]\tvalidation_0-rmse:0.37318\tvalidation_1-rmse:0.36850\n",
      "[48]\tvalidation_0-rmse:0.37312\tvalidation_1-rmse:0.36849\n",
      "[49]\tvalidation_0-rmse:0.37306\tvalidation_1-rmse:0.36846\n",
      "[50]\tvalidation_0-rmse:0.37297\tvalidation_1-rmse:0.36847\n",
      "[51]\tvalidation_0-rmse:0.37287\tvalidation_1-rmse:0.36843\n",
      "[52]\tvalidation_0-rmse:0.37280\tvalidation_1-rmse:0.36842\n",
      "[53]\tvalidation_0-rmse:0.37271\tvalidation_1-rmse:0.36838\n",
      "[54]\tvalidation_0-rmse:0.37267\tvalidation_1-rmse:0.36836\n",
      "[55]\tvalidation_0-rmse:0.37263\tvalidation_1-rmse:0.36837\n",
      "[56]\tvalidation_0-rmse:0.37256\tvalidation_1-rmse:0.36838\n",
      "[57]\tvalidation_0-rmse:0.37250\tvalidation_1-rmse:0.36833\n",
      "[58]\tvalidation_0-rmse:0.37244\tvalidation_1-rmse:0.36832\n",
      "[59]\tvalidation_0-rmse:0.37240\tvalidation_1-rmse:0.36830\n",
      "[60]\tvalidation_0-rmse:0.37233\tvalidation_1-rmse:0.36830\n",
      "[61]\tvalidation_0-rmse:0.37228\tvalidation_1-rmse:0.36829\n",
      "[62]\tvalidation_0-rmse:0.37223\tvalidation_1-rmse:0.36827\n",
      "[63]\tvalidation_0-rmse:0.37220\tvalidation_1-rmse:0.36826\n",
      "[64]\tvalidation_0-rmse:0.37217\tvalidation_1-rmse:0.36827\n",
      "[65]\tvalidation_0-rmse:0.37211\tvalidation_1-rmse:0.36826\n",
      "[66]\tvalidation_0-rmse:0.37203\tvalidation_1-rmse:0.36823\n",
      "[67]\tvalidation_0-rmse:0.37193\tvalidation_1-rmse:0.36817\n",
      "[68]\tvalidation_0-rmse:0.37187\tvalidation_1-rmse:0.36816\n",
      "[69]\tvalidation_0-rmse:0.37183\tvalidation_1-rmse:0.36815\n",
      "[70]\tvalidation_0-rmse:0.37176\tvalidation_1-rmse:0.36817\n",
      "[71]\tvalidation_0-rmse:0.37172\tvalidation_1-rmse:0.36819\n",
      "[72]\tvalidation_0-rmse:0.37164\tvalidation_1-rmse:0.36817\n",
      "[73]\tvalidation_0-rmse:0.37161\tvalidation_1-rmse:0.36817\n",
      "[74]\tvalidation_0-rmse:0.37157\tvalidation_1-rmse:0.36818\n",
      "[75]\tvalidation_0-rmse:0.37150\tvalidation_1-rmse:0.36820\n",
      "[76]\tvalidation_0-rmse:0.37142\tvalidation_1-rmse:0.36814\n",
      "[77]\tvalidation_0-rmse:0.37136\tvalidation_1-rmse:0.36810\n",
      "[78]\tvalidation_0-rmse:0.37133\tvalidation_1-rmse:0.36811\n",
      "[79]\tvalidation_0-rmse:0.37126\tvalidation_1-rmse:0.36812\n",
      "[80]\tvalidation_0-rmse:0.37122\tvalidation_1-rmse:0.36814\n",
      "[81]\tvalidation_0-rmse:0.37118\tvalidation_1-rmse:0.36811\n",
      "[82]\tvalidation_0-rmse:0.37115\tvalidation_1-rmse:0.36811\n",
      "[83]\tvalidation_0-rmse:0.37106\tvalidation_1-rmse:0.36810\n",
      "[84]\tvalidation_0-rmse:0.37103\tvalidation_1-rmse:0.36810\n",
      "[85]\tvalidation_0-rmse:0.37100\tvalidation_1-rmse:0.36810\n",
      "[86]\tvalidation_0-rmse:0.37098\tvalidation_1-rmse:0.36811\n",
      "[87]\tvalidation_0-rmse:0.37094\tvalidation_1-rmse:0.36809\n",
      "[88]\tvalidation_0-rmse:0.37090\tvalidation_1-rmse:0.36810\n",
      "[89]\tvalidation_0-rmse:0.37085\tvalidation_1-rmse:0.36811\n",
      "[90]\tvalidation_0-rmse:0.37078\tvalidation_1-rmse:0.36806\n",
      "[91]\tvalidation_0-rmse:0.37073\tvalidation_1-rmse:0.36805\n",
      "[92]\tvalidation_0-rmse:0.37070\tvalidation_1-rmse:0.36803\n",
      "[93]\tvalidation_0-rmse:0.37064\tvalidation_1-rmse:0.36803\n",
      "[94]\tvalidation_0-rmse:0.37061\tvalidation_1-rmse:0.36804\n",
      "[95]\tvalidation_0-rmse:0.37059\tvalidation_1-rmse:0.36803\n",
      "[96]\tvalidation_0-rmse:0.37052\tvalidation_1-rmse:0.36801\n",
      "[97]\tvalidation_0-rmse:0.37049\tvalidation_1-rmse:0.36804\n",
      "[98]\tvalidation_0-rmse:0.37044\tvalidation_1-rmse:0.36803\n",
      "[99]\tvalidation_0-rmse:0.37040\tvalidation_1-rmse:0.36804\n",
      "[100]\tvalidation_0-rmse:0.37033\tvalidation_1-rmse:0.36806\n",
      "[101]\tvalidation_0-rmse:0.37029\tvalidation_1-rmse:0.36806\n",
      "[102]\tvalidation_0-rmse:0.37025\tvalidation_1-rmse:0.36806\n",
      "[103]\tvalidation_0-rmse:0.37019\tvalidation_1-rmse:0.36809\n",
      "[104]\tvalidation_0-rmse:0.37017\tvalidation_1-rmse:0.36808\n",
      "[105]\tvalidation_0-rmse:0.37011\tvalidation_1-rmse:0.36803\n",
      "[106]\tvalidation_0-rmse:0.37007\tvalidation_1-rmse:0.36802\n",
      "[107]\tvalidation_0-rmse:0.37002\tvalidation_1-rmse:0.36799\n",
      "[108]\tvalidation_0-rmse:0.36997\tvalidation_1-rmse:0.36799\n",
      "[109]\tvalidation_0-rmse:0.36990\tvalidation_1-rmse:0.36799\n",
      "[110]\tvalidation_0-rmse:0.36988\tvalidation_1-rmse:0.36800\n",
      "[111]\tvalidation_0-rmse:0.36984\tvalidation_1-rmse:0.36800\n",
      "[112]\tvalidation_0-rmse:0.36979\tvalidation_1-rmse:0.36800\n",
      "[113]\tvalidation_0-rmse:0.36973\tvalidation_1-rmse:0.36796\n",
      "[114]\tvalidation_0-rmse:0.36970\tvalidation_1-rmse:0.36795\n",
      "[115]\tvalidation_0-rmse:0.36967\tvalidation_1-rmse:0.36794\n",
      "[116]\tvalidation_0-rmse:0.36963\tvalidation_1-rmse:0.36794\n",
      "[117]\tvalidation_0-rmse:0.36957\tvalidation_1-rmse:0.36791\n",
      "[118]\tvalidation_0-rmse:0.36952\tvalidation_1-rmse:0.36790\n",
      "[119]\tvalidation_0-rmse:0.36949\tvalidation_1-rmse:0.36791\n",
      "[120]\tvalidation_0-rmse:0.36943\tvalidation_1-rmse:0.36791\n",
      "[121]\tvalidation_0-rmse:0.36939\tvalidation_1-rmse:0.36792\n",
      "[122]\tvalidation_0-rmse:0.36936\tvalidation_1-rmse:0.36793\n",
      "[123]\tvalidation_0-rmse:0.36932\tvalidation_1-rmse:0.36793\n",
      "[124]\tvalidation_0-rmse:0.36928\tvalidation_1-rmse:0.36793\n",
      "[125]\tvalidation_0-rmse:0.36925\tvalidation_1-rmse:0.36794\n",
      "[126]\tvalidation_0-rmse:0.36916\tvalidation_1-rmse:0.36793\n",
      "[127]\tvalidation_0-rmse:0.36913\tvalidation_1-rmse:0.36794\n",
      "[128]\tvalidation_0-rmse:0.36907\tvalidation_1-rmse:0.36790\n",
      "[129]\tvalidation_0-rmse:0.36903\tvalidation_1-rmse:0.36790\n",
      "[130]\tvalidation_0-rmse:0.36897\tvalidation_1-rmse:0.36790\n",
      "[131]\tvalidation_0-rmse:0.36890\tvalidation_1-rmse:0.36785\n",
      "[132]\tvalidation_0-rmse:0.36884\tvalidation_1-rmse:0.36781\n",
      "[133]\tvalidation_0-rmse:0.36883\tvalidation_1-rmse:0.36783\n",
      "[134]\tvalidation_0-rmse:0.36876\tvalidation_1-rmse:0.36784\n",
      "[135]\tvalidation_0-rmse:0.36871\tvalidation_1-rmse:0.36784\n",
      "[136]\tvalidation_0-rmse:0.36867\tvalidation_1-rmse:0.36785\n",
      "[137]\tvalidation_0-rmse:0.36863\tvalidation_1-rmse:0.36785\n",
      "[138]\tvalidation_0-rmse:0.36859\tvalidation_1-rmse:0.36783\n",
      "[139]\tvalidation_0-rmse:0.36856\tvalidation_1-rmse:0.36785\n",
      "[140]\tvalidation_0-rmse:0.36855\tvalidation_1-rmse:0.36784\n",
      "[141]\tvalidation_0-rmse:0.36851\tvalidation_1-rmse:0.36783\n",
      "[142]\tvalidation_0-rmse:0.36850\tvalidation_1-rmse:0.36785\n",
      "[143]\tvalidation_0-rmse:0.36846\tvalidation_1-rmse:0.36784\n"
     ]
    },
    {
     "name": "stdout",
     "output_type": "stream",
     "text": [
      "[144]\tvalidation_0-rmse:0.36843\tvalidation_1-rmse:0.36783\n",
      "[145]\tvalidation_0-rmse:0.36837\tvalidation_1-rmse:0.36782\n",
      "[146]\tvalidation_0-rmse:0.36835\tvalidation_1-rmse:0.36783\n",
      "[147]\tvalidation_0-rmse:0.36831\tvalidation_1-rmse:0.36782\n",
      "[148]\tvalidation_0-rmse:0.36824\tvalidation_1-rmse:0.36782\n",
      "[149]\tvalidation_0-rmse:0.36822\tvalidation_1-rmse:0.36782\n",
      "[150]\tvalidation_0-rmse:0.36819\tvalidation_1-rmse:0.36783\n",
      "[151]\tvalidation_0-rmse:0.36816\tvalidation_1-rmse:0.36784\n",
      "[152]\tvalidation_0-rmse:0.36812\tvalidation_1-rmse:0.36783\n"
     ]
    }
   ],
   "source": [
    "gbm = xgb.XGBRegressor( \n",
    "                       n_estimators=30000, #arbitrary large number\n",
    "                       max_depth=3,\n",
    "                       objective=\"reg:squarederror\",  # Other options: https://xgboost.readthedocs.io/en/latest/parameter.html#learning-task-parameters\n",
    "                       learning_rate=.1, \n",
    "                       subsample=1,\n",
    "                       min_child_weight=1,\n",
    "                       colsample_bytree=.8\n",
    "                      )\n",
    "\n",
    "eval_set=[(X_train,y_train),(X_val,y_val)] #tracking train/validation error as we go\n",
    "fit_model = gbm.fit( \n",
    "                    X_train, y_train, \n",
    "                    eval_set=eval_set,\n",
    "                    eval_metric='rmse',\n",
    "                    early_stopping_rounds=20,\n",
    "                    verbose=True #gives output log as below\n",
    "                   )"
   ]
  },
  {
   "cell_type": "code",
   "execution_count": 231,
   "id": "ahead-astrology",
   "metadata": {},
   "outputs": [],
   "source": [
    "# predict using n_estimators with lowest validation error\n",
    "y_pred = gbm.predict(X_test, ntree_limit=gbm.best_ntree_limit)"
   ]
  },
  {
   "cell_type": "code",
   "execution_count": 226,
   "id": "vietnamese-gauge",
   "metadata": {},
   "outputs": [
    {
     "data": {
      "text/plain": [
       "0.36781357086855454"
      ]
     },
     "execution_count": 226,
     "metadata": {},
     "output_type": "execute_result"
    }
   ],
   "source": [
    "rmse(gbm.predict(X_val, ntree_limit=gbm.best_ntree_limit),y_val) "
   ]
  }
 ],
 "metadata": {
  "kernelspec": {
   "display_name": "Python 3",
   "language": "python",
   "name": "python3"
  },
  "language_info": {
   "codemirror_mode": {
    "name": "ipython",
    "version": 3
   },
   "file_extension": ".py",
   "mimetype": "text/x-python",
   "name": "python",
   "nbconvert_exporter": "python",
   "pygments_lexer": "ipython3",
   "version": "3.8.8"
  }
 },
 "nbformat": 4,
 "nbformat_minor": 5
}
