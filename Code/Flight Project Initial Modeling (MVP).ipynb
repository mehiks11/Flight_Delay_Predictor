{
 "cells": [
  {
   "cell_type": "code",
   "execution_count": 49,
   "id": "published-cooler",
   "metadata": {},
   "outputs": [],
   "source": [
    "# Importing all necessary libraries\n",
    "# munging imports\n",
    "import pandas as pd\n",
    "import numpy as np\n",
    "\n",
    "# visualization imports\n",
    "import matplotlib.pyplot as plt\n",
    "import seaborn as sns\n",
    "\n",
    "\n",
    "%matplotlib inline\n",
    "\n",
    "# modeling imports\n",
    "from sklearn.model_selection import train_test_split\n",
    "from sklearn.metrics import precision_score, recall_score, accuracy_score, roc_auc_score\n",
    "from sklearn.metrics import confusion_matrix\n",
    "from sklearn.preprocessing import StandardScaler\n",
    "from sklearn.neighbors import KNeighborsClassifier\n",
    "from sklearn import metrics"
   ]
  },
  {
   "cell_type": "markdown",
   "id": "final-bench",
   "metadata": {},
   "source": [
    "# Initial Flights Delay Project Modeling"
   ]
  },
  {
   "cell_type": "markdown",
   "id": "material-greenhouse",
   "metadata": {},
   "source": [
    "#### In this notebook, we will pull in data, sample some data points, and dummify the categorical variables for an initial model."
   ]
  },
  {
   "cell_type": "markdown",
   "id": "naked-hands",
   "metadata": {},
   "source": [
    "Pull in a sample from the final dataframe. "
   ]
  },
  {
   "cell_type": "code",
   "execution_count": 41,
   "id": "korean-savage",
   "metadata": {},
   "outputs": [],
   "source": [
    "#pull in a 10,000 datapoint sample from our dataframe, with unecessary columns dropped.\n",
    "sample_df=pd.read_csv('/Users/mehikapatel/Flights_Project/Data/FinalFlightsData.csv').drop(columns=['Unnamed: 0','CRS_DEP_TIME','CRS_ARR_TIME','DEP_TIME','DEP_DELAY','ARR_DELAY','CANCELLED','DATE','FLIGHT_NUM','origin_lat','origin_lon','dest_lat','dest_lon','municipality1','municipality2']).sample(n=10000,random_state=42)"
   ]
  },
  {
   "cell_type": "markdown",
   "id": "fixed-notebook",
   "metadata": {},
   "source": [
    "Fit an initial knn model with k=20 on sample data."
   ]
  },
  {
   "cell_type": "code",
   "execution_count": 50,
   "id": "southern-minority",
   "metadata": {},
   "outputs": [],
   "source": [
    "#make X and ys for simple MVP model (select out already numerical features)\n",
    "    \n",
    "    #attributes include: CRS_ELAPSED_TIME, DISTANCE, & holiday_szn\n",
    "\n",
    "X = sample_df.drop(columns=['AIRLINE','ORIGIN','DEST','MONTH','DAYOFWEEK','origin_type','dest_type','DEP_HOUR','ARR_HOUR','origin_weather','origin_severity','dest_weather','dest_severity'])\n",
    "y = sample_df.target\n",
    "\n",
    "#split into train and test\n",
    "X_train, X_test, y_train, y_test = train_test_split(X, y, test_size=0.3, random_state=42)"
   ]
  },
  {
   "cell_type": "code",
   "execution_count": 72,
   "id": "gorgeous-soviet",
   "metadata": {},
   "outputs": [
    {
     "name": "stdout",
     "output_type": "stream",
     "text": [
      "0.8333333333333334\n"
     ]
    }
   ],
   "source": [
    "# Train on training set, and Test on testing set\n",
    "knn = KNeighborsClassifier(n_neighbors=20)\n",
    "knn.fit(X_train, y_train)\n",
    "y_pred = knn.predict(X_test)\n",
    "print(metrics.accuracy_score(y_test, y_pred))"
   ]
  },
  {
   "cell_type": "markdown",
   "id": "pharmaceutical-rolling",
   "metadata": {},
   "source": [
    "Cross Validation"
   ]
  },
  {
   "cell_type": "code",
   "execution_count": 53,
   "id": "outdoor-cardiff",
   "metadata": {},
   "outputs": [],
   "source": [
    "from sklearn.model_selection import cross_val_score"
   ]
  },
  {
   "cell_type": "code",
   "execution_count": 68,
   "id": "commercial-cleanup",
   "metadata": {},
   "outputs": [
    {
     "name": "stdout",
     "output_type": "stream",
     "text": [
      "[0.823 0.826 0.832 0.827 0.819 0.822 0.82  0.831 0.83  0.83 ]\n"
     ]
    }
   ],
   "source": [
    "# 10-fold cross-validation with K=5 for KNN (the n_neighbors parameter)\n",
    "knn = KNeighborsClassifier(n_neighbors=5)\n",
    "scores = cross_val_score(knn, X, y, cv=10, scoring='accuracy')\n",
    "print(scores)\n"
   ]
  },
  {
   "cell_type": "code",
   "execution_count": 56,
   "id": "major-bread",
   "metadata": {},
   "outputs": [
    {
     "name": "stdout",
     "output_type": "stream",
     "text": [
      "[0.8293999999999999, 0.841, 0.8263, 0.8333, 0.826, 0.8301999999999999, 0.8278999999999999, 0.8302999999999999, 0.8291000000000001, 0.8301999999999999, 0.8298, 0.8300000000000001, 0.8295999999999999, 0.8298, 0.8301000000000001, 0.8299, 0.8302999999999999, 0.8301999999999999, 0.8299999999999998, 0.8298, 0.8297000000000001, 0.8297000000000001, 0.8297000000000001, 0.8295, 0.8295999999999999, 0.8293999999999999, 0.8295, 0.8293999999999999, 0.8290999999999998, 0.8292999999999999]\n"
     ]
    }
   ],
   "source": [
    "# search for an optimal value of K for KNN\n",
    "k_range = list(range(1, 31))\n",
    "k_scores = []\n",
    "for k in k_range:\n",
    "    knn = KNeighborsClassifier(n_neighbors=k)\n",
    "    scores = cross_val_score(knn, X, y, cv=10, scoring='accuracy')\n",
    "    k_scores.append(scores.mean())\n",
    "print(k_scores)"
   ]
  },
  {
   "cell_type": "code",
   "execution_count": 66,
   "id": "fossil-seven",
   "metadata": {},
   "outputs": [
    {
     "data": {
      "text/plain": [
       "0.841"
      ]
     },
     "execution_count": 66,
     "metadata": {},
     "output_type": "execute_result"
    }
   ],
   "source": [
    "max((k_scores))\n",
    "\n",
    "#we get the maximum validation score with k = 1."
   ]
  },
  {
   "cell_type": "code",
   "execution_count": 57,
   "id": "dental-tutorial",
   "metadata": {
    "scrolled": true
   },
   "outputs": [
    {
     "data": {
      "text/plain": [
       "Text(0, 0.5, 'Cross-Validated Accuracy')"
      ]
     },
     "execution_count": 57,
     "metadata": {},
     "output_type": "execute_result"
    },
    {
     "data": {
      "image/png": "[encoded data removed]",
      "text/plain": [
       "<Figure size 432x288 with 1 Axes>"
      ]
     },
     "metadata": {
      "needs_background": "light"
     },
     "output_type": "display_data"
    }
   ],
   "source": [
    "import matplotlib.pyplot as plt\n",
    "%matplotlib inline\n",
    "\n",
    "# plot the value of K for KNN (x-axis) versus the cross-validated accuracy (y-axis)\n",
    "plt.plot(k_range, k_scores)\n",
    "plt.xlabel('Value of K for KNN')\n",
    "plt.ylabel('Cross-Validated Accuracy')"
   ]
  },
  {
   "cell_type": "code",
   "execution_count": null,
   "id": "optional-relations",
   "metadata": {},
   "outputs": [],
   "source": [
    "# Print confusion matrix for kNN\n",
    "knn_confusion = confusion_matrix(y_test, knn.predict(X_test))\n",
    "\n",
    "plt.figure(dpi=150)\n",
    "sns.heatmap(knn_confusion, cmap=plt.cm.Blues, annot=True, square=True,\n",
    "           xticklabels=sample_df['target'],\n",
    "           yticklabels=sample_df['target'])\n",
    "\n",
    "plt.xlabel('Predicted Delayed')\n",
    "plt.ylabel('Actually Delayed')\n",
    "plt.title('kNN confusion matrix');"
   ]
  }
 ],
 "metadata": {
  "kernelspec": {
   "display_name": "Python 3",
   "language": "python",
   "name": "python3"
  },
  "language_info": {
   "codemirror_mode": {
    "name": "ipython",
    "version": 3
   },
   "file_extension": ".py",
   "mimetype": "text/x-python",
   "name": "python",
   "nbconvert_exporter": "python",
   "pygments_lexer": "ipython3",
   "version": "3.8.8"
  }
 },
 "nbformat": 4,
 "nbformat_minor": 5
}
