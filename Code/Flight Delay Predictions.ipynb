{
 "cells": [
  {
   "cell_type": "code",
   "execution_count": 1,
   "id": "closing-frame",
   "metadata": {},
   "outputs": [],
   "source": [
    "import pandas as pd"
   ]
  },
  {
   "cell_type": "code",
   "execution_count": 2,
   "id": "digital-biodiversity",
   "metadata": {},
   "outputs": [],
   "source": [
    "df=pd.read_csv('/Users/mehikapatel/Flights_Project/Data/FinalFlightsData.csv')"
   ]
  },
  {
   "cell_type": "code",
   "execution_count": 6,
   "id": "helpful-chosen",
   "metadata": {},
   "outputs": [
    {
     "data": {
      "text/plain": [
       "Unnamed: 0                  17034906\n",
       "DATE                      2018-10-27\n",
       "AIRLINE             SkyWest Airlines\n",
       "FLIGHT_NUM                      3332\n",
       "ORIGIN                           DAL\n",
       "DEST                             DCA\n",
       "CRS_DEP_TIME                    1340\n",
       "DEP_TIME                      1331.0\n",
       "DEP_DELAY                       -9.0\n",
       "CRS_ARR_TIME                    1730\n",
       "ARR_DELAY                       -6.0\n",
       "CANCELLED                        0.0\n",
       "CRS_ELAPSED_TIME               170.0\n",
       "DISTANCE                      1184.0\n",
       "MONTH                             10\n",
       "DAYOFWEEK                          5\n",
       "origin_type                    large\n",
       "origin_lat                 32.847099\n",
       "origin_lon                -96.851799\n",
       "municipality1                 Dallas\n",
       "dest_type                      large\n",
       "dest_lat                     38.8521\n",
       "dest_lon                  -77.037697\n",
       "municipality2             Washington\n",
       "holiday_szn                    False\n",
       "DEP_HOUR                          13\n",
       "ARR_HOUR                          17\n",
       "target                         False\n",
       "origin_weather                   Fog\n",
       "origin_severity               Severe\n",
       "dest_weather                    Rain\n",
       "dest_severity                  Light\n",
       "Name: 11623755, dtype: object"
      ]
     },
     "execution_count": 6,
     "metadata": {},
     "output_type": "execute_result"
    }
   ],
   "source": [
    "df.loc[11623755]"
   ]
  },
  {
   "cell_type": "code",
   "execution_count": 4,
   "id": "ecological-involvement",
   "metadata": {},
   "outputs": [
    {
     "data": {
      "text/plain": [
       "Unnamed: 0                    8369151\n",
       "DATE                       2017-07-13\n",
       "AIRLINE             American Airlines\n",
       "FLIGHT_NUM                        609\n",
       "ORIGIN                            DEN\n",
       "DEST                              CLT\n",
       "CRS_DEP_TIME                     1150\n",
       "DEP_TIME                       1144.0\n",
       "DEP_DELAY                        -6.0\n",
       "CRS_ARR_TIME                     1710\n",
       "ARR_DELAY                        -1.0\n",
       "CANCELLED                         0.0\n",
       "CRS_ELAPSED_TIME                200.0\n",
       "DISTANCE                       1337.0\n",
       "MONTH                               7\n",
       "DAYOFWEEK                           3\n",
       "origin_type                     large\n",
       "origin_lat                  39.861698\n",
       "origin_lon                -104.672997\n",
       "municipality1                  Denver\n",
       "dest_type                       large\n",
       "dest_lat                    35.214001\n",
       "dest_lon                     -80.9431\n",
       "municipality2               Charlotte\n",
       "holiday_szn                     False\n",
       "DEP_HOUR                           11\n",
       "ARR_HOUR                           17\n",
       "target                          False\n",
       "origin_weather                   Rain\n",
       "origin_severity                 Light\n",
       "dest_weather                      Fog\n",
       "dest_severity                Moderate\n",
       "Name: 5811482, dtype: object"
      ]
     },
     "execution_count": 4,
     "metadata": {},
     "output_type": "execute_result"
    }
   ],
   "source": [
    "df.loc[5811482]"
   ]
  },
  {
   "cell_type": "code",
   "execution_count": 5,
   "id": "sexual-duration",
   "metadata": {},
   "outputs": [
    {
     "data": {
      "text/plain": [
       "Unnamed: 0                   14276882\n",
       "DATE                       2018-06-18\n",
       "AIRLINE                Delta Airlines\n",
       "FLIGHT_NUM                       2303\n",
       "ORIGIN                            ATL\n",
       "DEST                              ECP\n",
       "CRS_DEP_TIME                     2237\n",
       "DEP_TIME                       2348.0\n",
       "DEP_DELAY                        71.0\n",
       "CRS_ARR_TIME                     2244\n",
       "ARR_DELAY                        62.0\n",
       "CANCELLED                         0.0\n",
       "CRS_ELAPSED_TIME                 67.0\n",
       "DISTANCE                        240.0\n",
       "MONTH                               6\n",
       "DAYOFWEEK                           0\n",
       "origin_type                     large\n",
       "origin_lat                    33.6367\n",
       "origin_lon                 -84.428101\n",
       "municipality1                 Atlanta\n",
       "dest_type                      medium\n",
       "dest_lat                    30.357106\n",
       "dest_lon                   -85.795414\n",
       "municipality2       Panama City Beach\n",
       "holiday_szn                     False\n",
       "DEP_HOUR                           22\n",
       "ARR_HOUR                           22\n",
       "target                           True\n",
       "origin_weather                   Rain\n",
       "origin_severity                 Light\n",
       "dest_weather                      NaN\n",
       "dest_severity                     NaN\n",
       "Name: 9822348, dtype: object"
      ]
     },
     "execution_count": 5,
     "metadata": {},
     "output_type": "execute_result"
    }
   ],
   "source": [
    "df.loc[9822348]"
   ]
  },
  {
   "cell_type": "code",
   "execution_count": null,
   "id": "endless-martin",
   "metadata": {},
   "outputs": [],
   "source": []
  }
 ],
 "metadata": {
  "kernelspec": {
   "display_name": "Python 3",
   "language": "python",
   "name": "python3"
  },
  "language_info": {
   "codemirror_mode": {
    "name": "ipython",
    "version": 3
   },
   "file_extension": ".py",
   "mimetype": "text/x-python",
   "name": "python",
   "nbconvert_exporter": "python",
   "pygments_lexer": "ipython3",
   "version": "3.8.8"
  }
 },
 "nbformat": 4,
 "nbformat_minor": 5
}
